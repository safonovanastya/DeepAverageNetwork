{
 "cells": [
  {
   "cell_type": "code",
   "execution_count": 1,
   "id": "7f9c64fb",
   "metadata": {},
   "outputs": [],
   "source": [
    "from typing import Dict, List\n",
    "\n",
    "import matplotlib.pyplot as plt\n",
    "import numpy as np\n",
    "import pandas as pd\n",
    "import seaborn as sns\n",
    "import torch\n",
    "\n",
    "from datasets import load_dataset\n",
    "from nltk.tokenize import ToktokTokenizer\n",
    "from sklearn.metrics import f1_score\n",
    "from torch import nn\n",
    "from torch.utils.data import DataLoader\n",
    "from tqdm import tqdm\n",
    "from sklearn.metrics import f1_score"
   ]
  },
  {
   "cell_type": "markdown",
   "id": "102d7074",
   "metadata": {},
   "source": [
    "# Deep Average Network для определения сентимента "
   ]
  },
  {
   "cell_type": "markdown",
   "id": "46d972fe",
   "metadata": {},
   "source": [
    "В этой домашке мы будет классифицировать твиты на 3 тональности.  \n",
    "Вы будете использовать предобученные эмбеддинги слов, так что для начала обязательно нужно посмотреть [туториал по их использованию](https://github.com/BobaZooba/DeepNLP/blob/master/Tutorials/Word%20vectors%20%26%20Data%20Loading.ipynb).\n",
    "\n",
    "Наши классы:  \n",
    "\n",
    "Индекс | Sentiment  \n",
    "-- | --  \n",
    "0 | negative  \n",
    "1 | neutral  \n",
    "2 | positive  "
   ]
  },
  {
   "cell_type": "markdown",
   "id": "55010212",
   "metadata": {},
   "source": [
    "Вам предстоит реализовать такую модель:\n",
    "![Архитектура модели DAN](https://www.researchgate.net/profile/Shervin-Minaee/publication/340523298/figure/fig1/AS:878252264550411@1586403065555/The-architecture-of-the-Deep-Average-Network-DAN-10.ppm)\n",
    "\n",
    "Что она из себя представляет:\n",
    "- Мы подаем в нее индексы слов\n",
    "- Переводим индексы слов в эмбеддинги\n",
    "- Усредняем эмбеддинги\n",
    "- Пропускаем усредненные эмбеддинги через `Multilayer Perceptron`\n",
    "\n",
    "В этой домашке вам предстоит:\n",
    "- Перевести тексты в матрицы с индексами токенов\n",
    "- Реализовать модель\n",
    "- Обучить ее\n",
    "- Понять хорошо ли вы это сделали\n",
    "\n",
    "Это очень важная модель, потому что она очень простая и показывает достаточно высокие метрики. В дальнейшем на работе советую использовать такую модель как бейзлайн. И в качестве эмбеддингов слов взять эмбеддинги от берта/роберты/тд."
   ]
  },
  {
   "cell_type": "markdown",
   "id": "65faf753",
   "metadata": {},
   "source": [
    "## 🤗 Datasets\n",
    "В этом туториале мы будем использовать подготовленные данные из библиотеки [datasets](https://github.com/huggingface/datasets). Мы вряд ли еще будем пользоваться этой библиотекой, так как нам будет важно самим подготавливать данные. Во-первых, для простоты, во-вторых, здесь есть достаточно неплохие практики. [Здесь](https://huggingface.co/datasets) вы сможете найти достаточно большое количество различных датасетов. Возможно, когда-нибудь они вам пригодятся."
   ]
  },
  {
   "cell_type": "markdown",
   "id": "5927f02a",
   "metadata": {},
   "source": [
    "## Загрузите эмбеддинги слов\n",
    "Реализуйте функцию по загрузке эмбеддингов из файла. Она должна отдавать словарь слов и `np.array`\n",
    "Формат словаря:\n",
    "```python\n",
    "{\n",
    "    'aabra': 0,\n",
    "    ...,\n",
    "    'mom': 6546,\n",
    "    ...\n",
    "    'xyz': 100355\n",
    "}\n",
    "```\n",
    "Формат матрицы эмбеддингов:\n",
    "```python\n",
    "array([[0.44442278, 0.28644582, 0.04357426, ..., 0.9425766 , 0.02024289,\n",
    "        0.88456545],\n",
    "       [0.77599317, 0.35188237, 0.54801261, ..., 0.91134102, 0.88599103,\n",
    "        0.88068835],\n",
    "       [0.68071886, 0.29352313, 0.95952505, ..., 0.19127958, 0.97723054,\n",
    "        0.36294011],\n",
    "       ...,\n",
    "       [0.03589378, 0.85429694, 0.33437761, ..., 0.39784873, 0.80368014,\n",
    "        0.76368042],\n",
    "       [0.01498725, 0.78155695, 0.80372969, ..., 0.82051826, 0.42314861,\n",
    "        0.18655465],\n",
    "       [0.69263802, 0.82090775, 0.27150426, ..., 0.86582747, 0.40896573,\n",
    "        0.33423976]])\n",
    "```\n",
    "\n",
    "Количество строк в матрице эмбеддингов должно совпадать с размером словаря, то есть для каждого токена должен быть свой эмбеддинг. По параметру `num_tokens` должно брать не более указано в этом параметре количество токенов в словарь и матрицу эмбеддингов."
   ]
  },
  {
   "cell_type": "code",
   "execution_count": 2,
   "id": "e15a9f7c",
   "metadata": {},
   "outputs": [],
   "source": [
    "def load_embeddings(path, pad_token='PAD', unk_token='UNK', num_tokens=100_000, verbose=True):\n",
    "    \n",
    "    vocab = dict()\n",
    "    embeddings = list()\n",
    "    \n",
    "    with open(path, encoding='utf-8') as file:\n",
    "        vocab_size, embedding_dim = file.readline().strip().split()\n",
    "        \n",
    "        vocab_size = int(vocab_size)\n",
    "        embedding_dim = int(embedding_dim)\n",
    "        \n",
    "        if num_tokens <= 0:\n",
    "            num_tokens = vocab_size\n",
    "        \n",
    "        vocab[pad_token] = 0\n",
    "        embeddings.append(np.zeros(embedding_dim))\n",
    "        \n",
    "        vocab[unk_token] = 1\n",
    "        embeddings.append(np.ones(embedding_dim))\n",
    "        \n",
    "        progress_bar = tqdm(total=num_tokens, disable=not verbose, desc='Reading embeddings file')\n",
    "        \n",
    "        for line in file:\n",
    "            parts = line.strip().split()\n",
    "\n",
    "            token = ' '.join(parts[:-embedding_dim]).lower()\n",
    "\n",
    "            if token in vocab:\n",
    "                continue\n",
    "\n",
    "            word_vector = np.array(list(map(float, parts[-embedding_dim:])))\n",
    "\n",
    "            vocab[token] = len(vocab)\n",
    "            embeddings.append(word_vector)\n",
    "\n",
    "            progress_bar.update()\n",
    "\n",
    "            if len(vocab) == num_tokens:\n",
    "                break\n",
    "\n",
    "        progress_bar.close()\n",
    "\n",
    "    embeddings = np.stack(embeddings)\n",
    "    \n",
    "    return vocab, embeddings"
   ]
  },
  {
   "cell_type": "markdown",
   "id": "c46b2b68",
   "metadata": {},
   "source": [
    "## Загружаем данные из библиотеки\n",
    "Мы сразу получим `torch.utils.data.Dataset`, который сможем передать в `torch.utils.data.DataLoader`"
   ]
  },
  {
   "cell_type": "code",
   "execution_count": 3,
   "id": "e54fdaa8",
   "metadata": {},
   "outputs": [
    {
     "name": "stderr",
     "output_type": "stream",
     "text": [
      "Reusing dataset tweet_eval (/home/nastia/.cache/huggingface/datasets/tweet_eval/sentiment/1.1.0/79e21f7659e902ea14f624232219492d972fe5e0f9d8c94363acc7f916a6be48)\n",
      "Reusing dataset tweet_eval (/home/nastia/.cache/huggingface/datasets/tweet_eval/sentiment/1.1.0/79e21f7659e902ea14f624232219492d972fe5e0f9d8c94363acc7f916a6be48)\n",
      "Reusing dataset tweet_eval (/home/nastia/.cache/huggingface/datasets/tweet_eval/sentiment/1.1.0/79e21f7659e902ea14f624232219492d972fe5e0f9d8c94363acc7f916a6be48)\n"
     ]
    }
   ],
   "source": [
    "dataset_path = \"tweet_eval\"\n",
    "dataset_name = \"sentiment\"\n",
    "\n",
    "train_dataset = load_dataset(path=dataset_path, name=dataset_name, split=\"train\")\n",
    "valid_dataset = load_dataset(path=dataset_path, name=dataset_name, split=\"validation\")\n",
    "test_dataset = load_dataset(path=dataset_path, name=dataset_name, split=\"test\")"
   ]
  },
  {
   "cell_type": "markdown",
   "id": "ad4a0650",
   "metadata": {},
   "source": [
    "## `torch.utils.data.DataLoader`"
   ]
  },
  {
   "cell_type": "code",
   "execution_count": 4,
   "id": "dc742027",
   "metadata": {},
   "outputs": [],
   "source": [
    "train_loader = DataLoader(train_dataset, batch_size=2, shuffle=True)\n",
    "valid_loader = DataLoader(valid_dataset, batch_size=2, shuffle=False)\n",
    "test_loader = DataLoader(test_dataset, batch_size=2, shuffle=False)"
   ]
  },
  {
   "cell_type": "markdown",
   "id": "e9012ae5",
   "metadata": {},
   "source": [
    "## Посмотрим что отдает нам `Loader`\n",
    "Это батч формата:\n",
    "```python\n",
    "batch = {\n",
    "    \"text\": [\n",
    "        \"text1\",\n",
    "        \"text2\",\n",
    "        ...,\n",
    "        \"textn\"\n",
    "    ],\n",
    "    \"label\": tensor([\n",
    "        1,\n",
    "        1,\n",
    "        ...,\n",
    "        0\n",
    "    ])\n",
    "}\n",
    "```\n",
    "То есть у нас есть словарь с двумя ключами `text` и `label`, где хранится n примеров. То есть для 5-го примера в батче текст будет храниться в `batch[\"text\"][5]`, а индекс класса будет храниться в `batch[\"label\"][5]`."
   ]
  },
  {
   "cell_type": "code",
   "execution_count": 5,
   "id": "49bf6b50",
   "metadata": {},
   "outputs": [
    {
     "data": {
      "text/plain": [
       "{'label': tensor([2, 1]),\n",
       " 'text': ['@user so how was the unity March I see Chuck Norris was there!',\n",
       "  \"Worth watching: Hamilton County (TN) Sheriff Jim Hammond's Full Speech about Islam at the Pachyderm Club:\"]}"
      ]
     },
     "execution_count": 5,
     "metadata": {},
     "output_type": "execute_result"
    }
   ],
   "source": [
    "for batch in train_loader:\n",
    "    break\n",
    "\n",
    "batch"
   ]
  },
  {
   "cell_type": "markdown",
   "id": "b0b9f0e6",
   "metadata": {},
   "source": [
    "## Collate\n",
    "Сейчас перед нами стоит проблема: мы получаем тексты в виде строк, а нам нужны тензоры (матрицы) с индексами токенов, к тому же нам нужно западить последовательности токенов, чтобы все сложить в торчовую матрицу. Мы можем сделать это двумя способами:\n",
    "- Достать из `train/valid/test_dataset` данные и написать свой `Dataset`, где внутри будет токенизировать текст, токены будут переводиться в индексы и затем последовательность будет падиться до нужной длины\n",
    "- Сделать функцию, которая бы дополнительно обрабатывали наши батчи. Она вставляется в `DataLoader(collate_fn=<ВАША_ФУНКЦИЯ>)`"
   ]
  },
  {
   "cell_type": "markdown",
   "id": "d03b0f2e",
   "metadata": {},
   "source": [
    "## Если вы хотите сделать свой `Dataset`\n",
    "То вы можете достать данные таким образом."
   ]
  },
  {
   "cell_type": "code",
   "execution_count": 6,
   "id": "26771f88",
   "metadata": {},
   "outputs": [
    {
     "data": {
      "text/plain": [
       "(45615, 45615)"
      ]
     },
     "execution_count": 6,
     "metadata": {},
     "output_type": "execute_result"
    }
   ],
   "source": [
    "len(train_dataset[\"text\"]), len(train_dataset[\"label\"])"
   ]
  },
  {
   "cell_type": "code",
   "execution_count": 7,
   "id": "f25200be",
   "metadata": {},
   "outputs": [
    {
     "data": {
      "text/plain": [
       "['\"QT @user In the original draft of the 7th book, Remus Lupin survived the Battle of Hogwarts. #HappyBirthdayRemusLupin\"',\n",
       " '\"Ben Smith / Smith (concussion) remains out of the lineup Thursday, Curtis #NHL #SJ\"']"
      ]
     },
     "execution_count": 7,
     "metadata": {},
     "output_type": "execute_result"
    }
   ],
   "source": [
    "train_dataset[\"text\"][:2]"
   ]
  },
  {
   "cell_type": "code",
   "execution_count": 8,
   "id": "d4c952b6",
   "metadata": {},
   "outputs": [
    {
     "data": {
      "text/plain": [
       "[2, 1]"
      ]
     },
     "execution_count": 8,
     "metadata": {},
     "output_type": "execute_result"
    }
   ],
   "source": [
    "train_dataset[\"label\"][:2]"
   ]
  },
  {
   "cell_type": "markdown",
   "id": "68184652",
   "metadata": {},
   "source": [
    "## Если вы хотите сделать `collate_fn`"
   ]
  },
  {
   "cell_type": "markdown",
   "id": "706dab4d",
   "metadata": {},
   "source": [
    "### Давайте посмотрим что вообще происходит внутри этого метода\n",
    "Для этого сделаем функцию `empty_collate`, которая принимает на вход батч и отдает его, ничего с ним не делая"
   ]
  },
  {
   "cell_type": "code",
   "execution_count": 9,
   "id": "3b7ce86b",
   "metadata": {},
   "outputs": [],
   "source": [
    "def empty_collate(batch):\n",
    "    return batch"
   ]
  },
  {
   "cell_type": "code",
   "execution_count": 10,
   "id": "26f0fe92",
   "metadata": {},
   "outputs": [],
   "source": [
    "train_loader = DataLoader(train_dataset, batch_size=2, shuffle=True, collate_fn=empty_collate)\n",
    "valid_loader = DataLoader(valid_dataset, batch_size=2, shuffle=False, collate_fn=empty_collate)\n",
    "test_loader = DataLoader(test_dataset, batch_size=2, shuffle=False, collate_fn=empty_collate)"
   ]
  },
  {
   "cell_type": "code",
   "execution_count": 11,
   "id": "942cf78e",
   "metadata": {},
   "outputs": [
    {
     "data": {
      "text/plain": [
       "[{'label': 1,\n",
       "  'text': \"SC paves way for Yakub's execution: The Supreme Court today refused to stay the execution slated for tomorrow ...\"},\n",
       " {'label': 2,\n",
       "  'text': 'I remember when we were in like 7th or 8th grade and Taylor called me legit crying bc she loved Justin Bieber so much lmao'}]"
      ]
     },
     "execution_count": 11,
     "metadata": {},
     "output_type": "execute_result"
    }
   ],
   "source": [
    "for batch in train_loader:\n",
    "    break\n",
    "\n",
    "batch"
   ]
  },
  {
   "cell_type": "markdown",
   "id": "91ca5081",
   "metadata": {},
   "source": [
    "## Формат батча\n",
    "```python\n",
    "batch = [\n",
    "    {\n",
    "        \"text\": \"text1\",\n",
    "        \"label\": 0\n",
    "    }, \n",
    "    {\n",
    "        \"text\": \"text2\",\n",
    "        \"label\": 1\n",
    "    },\n",
    "    ...,\n",
    "    {\n",
    "        \"text\": \"textn\",\n",
    "        \"label\": 1\n",
    "    }\n",
    "]\n",
    "```\n",
    "То есть теперь у нас есть список, где каждый элемент — это словарь со значениями `text` и `label`.  \n",
    "\n",
    "Вы можете сделать функцию или класс с методом `collate`. Этот способ решения домашки предодчтительней, так как использовать `collate` очень хорошая практика.\n",
    "\n",
    "Что я предлагаю:\n",
    "- Сделайте класс `Tokenizer`"
   ]
  },
  {
   "cell_type": "code",
   "execution_count": 12,
   "id": "3b9ddcca",
   "metadata": {},
   "outputs": [],
   "source": [
    "class Tokenizer:\n",
    "    \n",
    "    def __init__(self, base_tokenizer, token2index, pad_token, unk_token, max_length):\n",
    "        \n",
    "        self._base_tokenizer = base_tokenizer  \n",
    "        \n",
    "        self.token2index = token2index  \n",
    "        \n",
    "        self.pad_token = pad_token\n",
    "        self.pad_index = self.token2index[self.pad_token]\n",
    "        \n",
    "        self.unk_token = unk_token\n",
    "        self.unk_index = self.token2index[self.unk_token]\n",
    "        \n",
    "        self.max_length = max_length\n",
    "\n",
    "    def tokenize(self, text):\n",
    "        \"\"\"\n",
    "        В этом методе нужно разделить строку текста на токены\n",
    "        \"\"\"\n",
    "        return self._base_tokenizer.tokenize(text)\n",
    "    \n",
    "    def indexing(self, tokenized_text):\n",
    "        \"\"\"\n",
    "        В этом методе нужно перевести список токенов в список с индексами этих токенов\n",
    "        \"\"\"\n",
    "        indexes = []\n",
    "        for token in tokenized_text:\n",
    "            index = token2index.get(token, self.unk_index)\n",
    "            indexes.append(index)\n",
    "        return indexes\n",
    "        \n",
    "    def padding(self, tokens_indices):\n",
    "        \"\"\"\n",
    "        В этом методе нужно сделать длину tokens_indices равной self.max_length\n",
    "        Опционально убрать повторяющиеся unk'и\n",
    "        \"\"\"\n",
    "\n",
    "        pad = []\n",
    "        counter = 0\n",
    "        for i, token in enumerate(tokens_indices):\n",
    "            if i < self.max_length:\n",
    "                if token == self.unk_index and counter == 0:\n",
    "                    pad.append(token)\n",
    "                    counter += 1\n",
    "                elif token == self.unk_index and counter != 0:\n",
    "                    continue\n",
    "                else:\n",
    "                    pad.append(token)\n",
    "                    \n",
    "        pad.extend([self.pad_index] * (self.max_length - len(pad)-1))\n",
    "        \n",
    "        return pad\n",
    "    \n",
    "    \n",
    "    def __call__(self, text):\n",
    "        \"\"\"\n",
    "        В этом методе нужно перевести строку с текстом в вектор с индексами слов нужно размера (self.max_length)\n",
    "        \"\"\"\n",
    "        text_tokenized = self.tokenize(text)\n",
    "        text_indexed = self.indexing(text_tokenized)\n",
    "        text_padded = self.padding(text_indexed)\n",
    "        return text_padded\n",
    "        \n",
    "    def collate(self, batch):\n",
    "        \n",
    "        tokenized_texts = list()\n",
    "        labels = list()\n",
    "        \n",
    "        for sample in batch:\n",
    "            tokenized_texts.append(self(sample['text']))\n",
    "            labels.append(sample['label'])\n",
    "            \n",
    "        tokenized_texts = torch.tensor(tokenized_texts)  \n",
    "        labels = torch.tensor(labels) \n",
    "        \n",
    "        return tokenized_texts, labels"
   ]
  },
  {
   "cell_type": "markdown",
   "id": "11ab7e6d",
   "metadata": {},
   "source": [
    "## Перед реализацией выбранного метода\n",
    "Советую, чтобы в итоге `Loader` отдавал кортеж с двумя тензорами:\n",
    "- `torch.Tensor` с индексами токенов, размерность `(batch_size, sequence_length)`\n",
    "- `torch.Tensor` с индексами таргетов, размерность `(batch_size)`\n",
    "\n",
    "То есть, чтобы было так:\n",
    "```python\n",
    "for x, y in train_loader:\n",
    "    ...\n",
    "\n",
    ">> x\n",
    ">> tensor([[   37,  3889,   470,  ...,     0,     0,     0],\n",
    "           [ 1509,   581,   144,  ...,     0,     0,     0],\n",
    "           [ 1804,   893,  2457,  ...,     0,     0,     0],\n",
    "           ...,\n",
    "           [  170, 39526,  2102,  ...,     0,     0,     0],\n",
    "           [ 1217,   172, 28440,  ...,     0,     0,     0],\n",
    "           [   37,    56,   603,  ...,     0,     0,     0]])\n",
    "\n",
    ">> y\n",
    ">> tensor([1, 2, 2, 2, 1, 1, 1, 1, 2, 1, 1, 2, 2, 1, 1, 1, 1, 1, 0, 1, 2, 0, 0, 1,\n",
    "           0, 2, 1, 1, 0, 1, 2, 0, 2, 1, 2, 1, 1, 1, 2, 1, 1, 0, 1, 1, 1, 0, 1, 0,\n",
    "           1, 0, 2, 2, 2, 1, 1, 2, 2, 2, 1, 2, 0, 1, 0, 2, 1, 2, 2, 1, 0, 0, 2, 2,\n",
    "           2, 1, 2, 0, 2, 2, 0, 2, 0, 1, 1, 1, 2, 2, 2, 1, 1, 1, 1, 2, 1, 0, 2, 2,\n",
    "           2, 1, 1, 1, 1, 1, 2, 2, 2, 2, 1, 1, 2, 1, 1, 0, 1, 1, 1, 2, 2, 1, 2, 1,\n",
    "           2, 1, 1, 2, 2, 1, 1, 2])\n",
    "\n",
    ">> x.shape\n",
    ">> torch.Size([128, 64])\n",
    "\n",
    ">> y.shape\n",
    ">> torch.Size([128])\n",
    "```\n",
    "При условии, что батч сайз равен 128, а максимальная длина последовательности равна 64.\n",
    "\n",
    "## Помните"
   ]
  },
  {
   "cell_type": "markdown",
   "id": "018cf71c",
   "metadata": {},
   "source": [
    "## <Место для реализации>"
   ]
  },
  {
   "cell_type": "code",
   "execution_count": 13,
   "id": "olympic-brook",
   "metadata": {},
   "outputs": [
    {
     "name": "stderr",
     "output_type": "stream",
     "text": [
      "Reading embeddings file: 100%|█████████▉| 99998/100000 [00:07<00:00, 14267.89it/s]\n"
     ]
    }
   ],
   "source": [
    "emb_path = 'cc.en.300.vec'\n",
    "num_tokens = 100_000\n",
    "pad_token = '<PAD>'\n",
    "unk_token = '<UNK>'\n",
    "\n",
    "token2index, embeddings_matrix = load_embeddings(path=emb_path, num_tokens=num_tokens, pad_token=pad_token, unk_token=unk_token)"
   ]
  },
  {
   "cell_type": "code",
   "execution_count": 14,
   "id": "perfect-character",
   "metadata": {},
   "outputs": [],
   "source": [
    "tokenizer = Tokenizer(\n",
    "    base_tokenizer=ToktokTokenizer(),\n",
    "    token2index=token2index,\n",
    "    pad_token=pad_token,\n",
    "    unk_token=unk_token,\n",
    "    max_length=64\n",
    ")"
   ]
  },
  {
   "cell_type": "code",
   "execution_count": 15,
   "id": "40268f8c",
   "metadata": {},
   "outputs": [],
   "source": [
    "train_loader = DataLoader(train_dataset, batch_size=256, shuffle=True, collate_fn=tokenizer.collate)\n",
    "valid_loader = DataLoader(valid_dataset, batch_size=256, shuffle=True, collate_fn=tokenizer.collate)\n",
    "test_loader = DataLoader(test_dataset, batch_size=256, shuffle=True, collate_fn=tokenizer.collate)"
   ]
  },
  {
   "cell_type": "code",
   "execution_count": 16,
   "id": "d293b759",
   "metadata": {},
   "outputs": [],
   "source": [
    "for x, y in train_loader:\n",
    "    break"
   ]
  },
  {
   "cell_type": "code",
   "execution_count": 17,
   "id": "87752ad7",
   "metadata": {},
   "outputs": [],
   "source": [
    "assert(isinstance(x, torch.Tensor))\n",
    "assert(len(x.size()) == 2)\n",
    "\n",
    "assert(isinstance(y, torch.Tensor))\n",
    "assert(len(y.size()) == 1)"
   ]
  },
  {
   "cell_type": "markdown",
   "id": "dbc96104",
   "metadata": {},
   "source": [
    "# Реализация DAN\n",
    "\n",
    "На вход модели будут подавать индексы слов\n",
    "\n",
    "Шаги:\n",
    "- Переводим индексы слов в эмбеддинги\n",
    "- Усредняем эмбеддинги\n",
    "- Пропускаем усредненные эмбеддинги через `Multilayer Perceptron`\n",
    "    - Нужно реализовать самому\n",
    "    \n",
    "Дополнительно:\n",
    "- Добавьте `nn.Dropout`, `nn.BatchNorm` по вкусу\n",
    "- Сделайте усреднение с учетом падов\n",
    "- Используйте эмбеддинги от берта/роберты/тд (когда-нибудь про это будет целый туториал, а пока предлагают вам попробовать сделать это самим)"
   ]
  },
  {
   "cell_type": "markdown",
   "id": "123324f0",
   "metadata": {},
   "source": [
    "# Советы\n",
    "\n",
    "## До обучения\n",
    "- Выберите метрику(ки) качества и расскажите почему она(они)\n",
    "    - Обычно есть основная метрика, по которой принимаем решения какие веса брать и дополнительные, которые нам помогут делать выводы, например, о том все ли хорошо с нашими данными, хорошо ли модель справляется с дисбалансом классов и тд\n",
    "- Эту домашку можно сделать и на `CPU`, но на `GPU` будет сильно быстрее\n",
    "    - Во всех остальных домашках мы будем учить модели на `GPU`\n",
    "    - Рано или поздно вам придется посмотреть этот [туториал](https://www.youtube.com/watch?v=pgk1zGv5lU4)\n",
    "    - Вы можете обучаться на `colab`, это бесплатно\n",
    "\n",
    "## До эпохи\n",
    "- Сделайте списки/словари/другое, чтобы сохранять нужные данные для расчета метрик(и) по всей эпохе для трейна и валидации\n",
    "\n",
    "## Во время эпохи\n",
    "- Используйте [`tqdm`](https://github.com/tqdm/tqdm) как прогресс бар, чтобы понимать как проходит ваше обучение\n",
    "- Логируйте лосс\n",
    "- Логируйте метрику(ки) по батчу\n",
    "- Сохраняйте то, что вам нужно, чтобы посчитать метрик(и) на всю эпоху для трейна и валидации\n",
    "\n",
    "## После эпохи\n",
    "- Посчитайте метрик(и) на всю эпоху для трейна и валидации\n",
    "\n",
    "## После обучения\n",
    "- Провалидируйтесь на тестовом наборе и посмотрите метрики\n",
    "- Постройте [`classification_report`](https://scikit-learn.org/stable/modules/generated/sklearn.metrics.classification_report.html)\n",
    "- Постройте графики:\n",
    "    - [Confusion Matrix](https://scikit-learn.org/stable/modules/model_evaluation.html#confusion-matrix)\n",
    "    - [Опционально] Распределение вероятностей мажоритарного класса (то есть для какого-то примера мы выбираем такой класс и вероятность этого выбора такая-то) на трейне/тесте/валидации\n",
    "        - Если класс был выбран верно и если была ошибка\n",
    "- Подумайте что еще вам будет полезно для того, чтобы ответить на такие вопросы: \n",
    "    - Что в моделе можно улучшить?\n",
    "    - Все ли хорошо с моими данными?\n",
    "    - Все ли хорошо с валидацией?\n",
    "    - Не переобучился ли я?\n",
    "    - Достаточно ли я посмотрел на данные?\n",
    "    - Нужно ли мне улучшить предобработку данных?\n",
    "    - Нужно ли поменять токенизацию или эмбеддинги?\n",
    "    - Нет ли у меня багов в реализации?\n",
    "    - Какие типичные ошибки у моей модели?\n",
    "    - Как я могу их исправить?"
   ]
  },
  {
   "cell_type": "markdown",
   "id": "according-indonesian",
   "metadata": {},
   "source": [
    "## Для того, чтобы выбрать метрику, лучше всего сначала посмотреть на то, как у нас распределены классы в датасете"
   ]
  },
  {
   "cell_type": "code",
   "execution_count": 18,
   "id": "disciplinary-investor",
   "metadata": {},
   "outputs": [],
   "source": [
    "train_labels = pd.Series([x[\"label\"] for x in train_dataset])\n",
    "valid_labels = pd.Series([x[\"label\"] for x in valid_dataset])\n",
    "test_labels = pd.Series([x[\"label\"] for x in test_dataset])"
   ]
  },
  {
   "cell_type": "code",
   "execution_count": 19,
   "id": "disabled-imaging",
   "metadata": {},
   "outputs": [
    {
     "name": "stdout",
     "output_type": "stream",
     "text": [
      "Train dataset:\n",
      "1    20673\n",
      "2    17849\n",
      "0     7093\n",
      "dtype: int64\n",
      "\n",
      "\n",
      "Validation dataset:\n",
      "1    869\n",
      "2    819\n",
      "0    312\n",
      "dtype: int64\n",
      "\n",
      "\n",
      "Test dataset:\n",
      "1    5937\n",
      "0    3972\n",
      "2    2375\n",
      "dtype: int64\n"
     ]
    }
   ],
   "source": [
    "print('Train dataset:')\n",
    "print(train_labels.value_counts())\n",
    "\n",
    "print('\\n\\nValidation dataset:')\n",
    "print(valid_labels.value_counts())\n",
    "\n",
    "print('\\n\\nTest dataset:')\n",
    "print(test_labels.value_counts())"
   ]
  },
  {
   "cell_type": "markdown",
   "id": "ff1f451c",
   "metadata": {},
   "source": [
    "# Я выбрала метрику F1-weighted\n",
    "Почему я выбрала эту метрику:  \n",
    "Перед нами стоит задача по классификации и классов у нас несколько (т.е. это небинарная классификация) и как видно выше, классы не сбалансированы в датасете: негативных высказываний в совокупности существенно меньше, чем нейтральных и позитивных (в выборках для обучения и для валидации), а нейтральных сильно больше, чем остальных.\n",
    "\n",
    "Так как каждый класс для нас важен, лучше всего использовать метрику F1-weighted"
   ]
  },
  {
   "cell_type": "code",
   "execution_count": 20,
   "id": "da42260c",
   "metadata": {},
   "outputs": [],
   "source": [
    "class DeepAverageNetwork(nn.Module):\n",
    "    def __init__(self, \n",
    "                 vocab_size: int,\n",
    "                 input_size: int,\n",
    "                 embeddings,\n",
    "                 hidden_size: int,\n",
    "                 output_size: int,\n",
    "                ):\n",
    "        \n",
    "        super(DeepAverageNetwork, self).__init__()\n",
    "        \n",
    "        self.embedding = nn.Embedding(vocab_size, input_size, padding_idx=0)\n",
    "        self.embedding.from_pretrained(torch.tensor(embeddings), freeze=False, padding_idx=0)        \n",
    "        self.pooling = torch.mean\n",
    "        self.fc1 = torch.nn.Linear(in_features=input_size, out_features=hidden_size)\n",
    "        self.relu = torch.nn.ReLU()\n",
    "        self.dropout = nn.Dropout(0.05)\n",
    "        self.fc2 = torch.nn.Linear(in_features=hidden_size, out_features=output_size)\n",
    "\n",
    "    \n",
    "    def forward(self, x: torch.Tensor):\n",
    "        \n",
    "        out = self.embedding(x)\n",
    "        out = self.pooling(out, dim=1)\n",
    "        out = self.fc1(out) \n",
    "        out = self.relu(out)\n",
    "        out = self.dropout(out)\n",
    "        out = self.fc2(out) \n",
    "        \n",
    "        return out"
   ]
  },
  {
   "cell_type": "code",
   "execution_count": 21,
   "id": "7966f715",
   "metadata": {},
   "outputs": [],
   "source": [
    "model = DeepAverageNetwork(\n",
    "    vocab_size=num_tokens,\n",
    "    input_size=embeddings_matrix.shape[1],\n",
    "    embeddings = embeddings_matrix,\n",
    "    hidden_size=128,\n",
    "    output_size=3\n",
    "    )"
   ]
  },
  {
   "cell_type": "code",
   "execution_count": 22,
   "id": "4b4a2161",
   "metadata": {},
   "outputs": [
    {
     "data": {
      "text/plain": [
       "DeepAverageNetwork(\n",
       "  (embedding): Embedding(100000, 300, padding_idx=0)\n",
       "  (fc1): Linear(in_features=300, out_features=128, bias=True)\n",
       "  (relu): ReLU()\n",
       "  (dropout): Dropout(p=0.05, inplace=False)\n",
       "  (fc2): Linear(in_features=128, out_features=3, bias=True)\n",
       ")"
      ]
     },
     "execution_count": 22,
     "metadata": {},
     "output_type": "execute_result"
    }
   ],
   "source": [
    "device = torch.device('cuda' if torch.cuda.is_available() else 'cpu')  \n",
    "model = model.to(device)\n",
    "model"
   ]
  },
  {
   "cell_type": "markdown",
   "id": "5efad1d1",
   "metadata": {},
   "source": [
    "## Задайте функцию потерь и оптимизатор"
   ]
  },
  {
   "cell_type": "code",
   "execution_count": 23,
   "id": "34c552fa",
   "metadata": {},
   "outputs": [],
   "source": [
    "optimizer = torch.optim.AdamW(model.parameters(), lr=0.001)\n",
    "criterion = nn.CrossEntropyLoss().to(device)"
   ]
  },
  {
   "cell_type": "markdown",
   "id": "628847fe",
   "metadata": {},
   "source": [
    "## Сделайте цикл обучения"
   ]
  },
  {
   "cell_type": "code",
   "execution_count": 24,
   "id": "b634b9ce",
   "metadata": {},
   "outputs": [],
   "source": [
    "def train(model, iterator, optimizer, criterion):\n",
    "\n",
    "    losses = []\n",
    "    f1 = []\n",
    "    \n",
    "    model.train()  \n",
    "    for _, (x, y) in tqdm(enumerate(iterator), total=len(iterator), desc=\"Training\"):\n",
    "        \n",
    "        optimizer.zero_grad()   \n",
    "        preds = model(x.to(device)).squeeze() \n",
    "        loss = criterion(preds, y.to(device))        \n",
    "        loss.backward()\n",
    "        \n",
    "        optimizer.step()     \n",
    "        y_pred = preds.detach().to('cpu').numpy().argmax(1).tolist()\n",
    "        y_true = y.tolist()\n",
    "        f1_sc = f1_score(y_true, y_pred, average=\"weighted\")\n",
    "        \n",
    "        losses.append(loss.item())\n",
    "        f1.append(f1_sc)\n",
    "    return np.mean(losses), np.mean(f1)\n",
    "\n",
    "\n",
    "def evaluate(model, iterator, criterion):\n",
    "    \n",
    "    losses = []\n",
    "    f1 = []\n",
    "    \n",
    "    model.eval()\n",
    "   \n",
    "    with torch.no_grad():\n",
    "        for _, (x, y) in tqdm(enumerate(iterator), total=len(iterator), desc=\"Evaluation\"):   \n",
    "            preds = model(x.to(device)).squeeze() \n",
    "            loss = criterion(preds, y.to(device))    \n",
    "            \n",
    "            y_pred = preds.detach().to('cpu').numpy().argmax(1).tolist()\n",
    "            y_true = y.tolist()\n",
    "            f1_sc = f1_score(y_true, y_pred, average=\"weighted\")\n",
    "\n",
    "            losses.append(loss.item())\n",
    "            f1.append(f1_sc)\n",
    "    return np.mean(losses), np.mean(f1)\n",
    "\n",
    "\n",
    "def test(model, iterator, criterion):\n",
    "    y_all_pred = []\n",
    "    y_all_true = []\n",
    "    \n",
    "    model.eval()\n",
    "    with torch.no_grad():\n",
    "        for _, (x, y) in tqdm(enumerate(iterator), total=len(iterator), desc=\"Testing\"):   \n",
    "            preds = model(x.to(device)).squeeze()  \n",
    "            \n",
    "            y_pred = preds.detach().to('cpu').numpy().argmax(1).tolist()\n",
    "            y_true = y.tolist()\n",
    "\n",
    "            y_all_pred.extend(y_pred)\n",
    "            y_all_true.extend(y_true)\n",
    "    return y_all_true, y_all_pred"
   ]
  },
  {
   "cell_type": "code",
   "execution_count": 25,
   "id": "hungarian-consultation",
   "metadata": {},
   "outputs": [
    {
     "name": "stderr",
     "output_type": "stream",
     "text": [
      "Training:   2%|▏         | 3/179 [00:00<00:07, 22.05it/s]"
     ]
    },
    {
     "name": "stdout",
     "output_type": "stream",
     "text": [
      "epoch 0\n"
     ]
    },
    {
     "name": "stderr",
     "output_type": "stream",
     "text": [
      "Training: 100%|██████████| 179/179 [00:07<00:00, 24.33it/s]\n",
      "Evaluation: 100%|██████████| 8/8 [00:00<00:00, 42.74it/s]\n",
      "Training:   2%|▏         | 3/179 [00:00<00:07, 23.21it/s]"
     ]
    },
    {
     "name": "stdout",
     "output_type": "stream",
     "text": [
      "Train loss: 0.9577271022610159, Train F1: 0.4799607919098375\n",
      "Valid loss: 0.9171275720000267, Valid F1: 0.5284784866750724\n",
      "______________________________________\n",
      "\n",
      "epoch 1\n"
     ]
    },
    {
     "name": "stderr",
     "output_type": "stream",
     "text": [
      "Training: 100%|██████████| 179/179 [00:07<00:00, 24.52it/s]\n",
      "Evaluation: 100%|██████████| 8/8 [00:00<00:00, 43.22it/s]\n",
      "Training:   2%|▏         | 3/179 [00:00<00:07, 23.52it/s]"
     ]
    },
    {
     "name": "stdout",
     "output_type": "stream",
     "text": [
      "Train loss: 0.8616289952613788, Train F1: 0.5717430196239278\n",
      "Valid loss: 0.8725347965955734, Valid F1: 0.5744996136800651\n",
      "______________________________________\n",
      "\n",
      "epoch 2\n"
     ]
    },
    {
     "name": "stderr",
     "output_type": "stream",
     "text": [
      "Training: 100%|██████████| 179/179 [00:07<00:00, 24.54it/s]\n",
      "Evaluation: 100%|██████████| 8/8 [00:00<00:00, 41.71it/s]\n",
      "Training:   2%|▏         | 3/179 [00:00<00:07, 23.48it/s]"
     ]
    },
    {
     "name": "stdout",
     "output_type": "stream",
     "text": [
      "Train loss: 0.7932319461300387, Train F1: 0.6245393346974425\n",
      "Valid loss: 0.8508194610476494, Valid F1: 0.5917209640339167\n",
      "______________________________________\n",
      "\n",
      "epoch 3\n"
     ]
    },
    {
     "name": "stderr",
     "output_type": "stream",
     "text": [
      "Training: 100%|██████████| 179/179 [00:07<00:00, 24.42it/s]\n",
      "Evaluation: 100%|██████████| 8/8 [00:00<00:00, 42.69it/s]\n",
      "Training:   2%|▏         | 3/179 [00:00<00:07, 23.49it/s]"
     ]
    },
    {
     "name": "stdout",
     "output_type": "stream",
     "text": [
      "Train loss: 0.7365972689410162, Train F1: 0.6608092466993252\n",
      "Valid loss: 0.8431837558746338, Valid F1: 0.6087369489459049\n",
      "______________________________________\n",
      "\n",
      "epoch 4\n"
     ]
    },
    {
     "name": "stderr",
     "output_type": "stream",
     "text": [
      "Training: 100%|██████████| 179/179 [00:07<00:00, 24.50it/s]\n",
      "Evaluation: 100%|██████████| 8/8 [00:00<00:00, 42.88it/s]\n",
      "Training:   2%|▏         | 3/179 [00:00<00:07, 23.72it/s]"
     ]
    },
    {
     "name": "stdout",
     "output_type": "stream",
     "text": [
      "Train loss: 0.6875930468463365, Train F1: 0.6932408171282842\n",
      "Valid loss: 0.8493639454245567, Valid F1: 0.6173813881232854\n",
      "______________________________________\n",
      "\n",
      "epoch 5\n"
     ]
    },
    {
     "name": "stderr",
     "output_type": "stream",
     "text": [
      "Training: 100%|██████████| 179/179 [00:07<00:00, 24.46it/s]\n",
      "Evaluation: 100%|██████████| 8/8 [00:00<00:00, 43.57it/s]\n",
      "Training:   2%|▏         | 3/179 [00:00<00:07, 23.84it/s]"
     ]
    },
    {
     "name": "stdout",
     "output_type": "stream",
     "text": [
      "Train loss: 0.644462291421837, Train F1: 0.7171715511308904\n",
      "Valid loss: 0.8498287498950958, Valid F1: 0.6264723156067371\n",
      "______________________________________\n",
      "\n",
      "epoch 6\n"
     ]
    },
    {
     "name": "stderr",
     "output_type": "stream",
     "text": [
      "Training: 100%|██████████| 179/179 [00:07<00:00, 24.46it/s]\n",
      "Evaluation: 100%|██████████| 8/8 [00:00<00:00, 42.22it/s]\n",
      "Training:   2%|▏         | 3/179 [00:00<00:07, 22.74it/s]"
     ]
    },
    {
     "name": "stdout",
     "output_type": "stream",
     "text": [
      "Train loss: 0.6066271476239465, Train F1: 0.7385407723928995\n",
      "Valid loss: 0.8632867261767387, Valid F1: 0.6220793386714975\n",
      "______________________________________\n",
      "\n",
      "epoch 7\n"
     ]
    },
    {
     "name": "stderr",
     "output_type": "stream",
     "text": [
      "Training: 100%|██████████| 179/179 [00:07<00:00, 24.49it/s]\n",
      "Evaluation: 100%|██████████| 8/8 [00:00<00:00, 43.01it/s]\n",
      "Training:   2%|▏         | 3/179 [00:00<00:07, 23.56it/s]"
     ]
    },
    {
     "name": "stdout",
     "output_type": "stream",
     "text": [
      "Train loss: 0.5718367654185056, Train F1: 0.7576655189095436\n",
      "Valid loss: 0.8914001956582069, Valid F1: 0.6227959055688235\n",
      "______________________________________\n",
      "\n",
      "epoch 8\n"
     ]
    },
    {
     "name": "stderr",
     "output_type": "stream",
     "text": [
      "Training: 100%|██████████| 179/179 [00:07<00:00, 24.39it/s]\n",
      "Evaluation: 100%|██████████| 8/8 [00:00<00:00, 42.87it/s]\n",
      "Training:   2%|▏         | 3/179 [00:00<00:07, 23.61it/s]"
     ]
    },
    {
     "name": "stdout",
     "output_type": "stream",
     "text": [
      "Train loss: 0.5420420940694862, Train F1: 0.7721832961776943\n",
      "Valid loss: 0.9170590564608574, Valid F1: 0.6341966214973485\n",
      "______________________________________\n",
      "\n",
      "epoch 9\n"
     ]
    },
    {
     "name": "stderr",
     "output_type": "stream",
     "text": [
      "Training: 100%|██████████| 179/179 [00:07<00:00, 24.46it/s]\n",
      "Evaluation: 100%|██████████| 8/8 [00:00<00:00, 43.07it/s]\n",
      "Training:   2%|▏         | 3/179 [00:00<00:07, 23.22it/s]"
     ]
    },
    {
     "name": "stdout",
     "output_type": "stream",
     "text": [
      "Train loss: 0.5172975392980949, Train F1: 0.7833685989945545\n",
      "Valid loss: 0.9447804689407349, Valid F1: 0.6198731784908451\n",
      "______________________________________\n",
      "\n",
      "epoch 10\n"
     ]
    },
    {
     "name": "stderr",
     "output_type": "stream",
     "text": [
      "Training: 100%|██████████| 179/179 [00:07<00:00, 24.55it/s]\n",
      "Evaluation: 100%|██████████| 8/8 [00:00<00:00, 43.45it/s]\n",
      "Training:   2%|▏         | 3/179 [00:00<00:07, 23.73it/s]"
     ]
    },
    {
     "name": "stdout",
     "output_type": "stream",
     "text": [
      "Train loss: 0.4932029208990449, Train F1: 0.794211226715378\n",
      "Valid loss: 0.9783093705773354, Valid F1: 0.6132047765820923\n",
      "______________________________________\n",
      "\n",
      "epoch 11\n"
     ]
    },
    {
     "name": "stderr",
     "output_type": "stream",
     "text": [
      "Training: 100%|██████████| 179/179 [00:07<00:00, 24.43it/s]\n",
      "Evaluation: 100%|██████████| 8/8 [00:00<00:00, 43.31it/s]\n",
      "Training:   2%|▏         | 3/179 [00:00<00:07, 23.25it/s]"
     ]
    },
    {
     "name": "stdout",
     "output_type": "stream",
     "text": [
      "Train loss: 0.47100881707734904, Train F1: 0.8046150012692365\n",
      "Valid loss: 1.0085215121507645, Valid F1: 0.6232785272429224\n",
      "______________________________________\n",
      "\n",
      "epoch 12\n"
     ]
    },
    {
     "name": "stderr",
     "output_type": "stream",
     "text": [
      "Training: 100%|██████████| 179/179 [00:07<00:00, 24.50it/s]\n",
      "Evaluation: 100%|██████████| 8/8 [00:00<00:00, 43.70it/s]\n",
      "Training:   2%|▏         | 3/179 [00:00<00:07, 23.86it/s]"
     ]
    },
    {
     "name": "stdout",
     "output_type": "stream",
     "text": [
      "Train loss: 0.45178474960380427, Train F1: 0.8145930318376863\n",
      "Valid loss: 1.0348763763904572, Valid F1: 0.6162228088848484\n",
      "______________________________________\n",
      "\n",
      "epoch 13\n"
     ]
    },
    {
     "name": "stderr",
     "output_type": "stream",
     "text": [
      "Training: 100%|██████████| 179/179 [00:07<00:00, 24.65it/s]\n",
      "Evaluation: 100%|██████████| 8/8 [00:00<00:00, 44.17it/s]\n",
      "Training:   2%|▏         | 3/179 [00:00<00:07, 24.25it/s]"
     ]
    },
    {
     "name": "stdout",
     "output_type": "stream",
     "text": [
      "Train loss: 0.43633408985990385, Train F1: 0.8209294257929619\n",
      "Valid loss: 1.0607568472623825, Valid F1: 0.6157969611268315\n",
      "______________________________________\n",
      "\n",
      "epoch 14\n"
     ]
    },
    {
     "name": "stderr",
     "output_type": "stream",
     "text": [
      "Training: 100%|██████████| 179/179 [00:07<00:00, 24.62it/s]\n",
      "Evaluation: 100%|██████████| 8/8 [00:00<00:00, 42.60it/s]\n",
      "Training:   2%|▏         | 3/179 [00:00<00:07, 23.27it/s]"
     ]
    },
    {
     "name": "stdout",
     "output_type": "stream",
     "text": [
      "Train loss: 0.4209934509666272, Train F1: 0.8286556399389727\n",
      "Valid loss: 1.0968102365732193, Valid F1: 0.610821846046986\n",
      "______________________________________\n",
      "\n",
      "epoch 15\n"
     ]
    },
    {
     "name": "stderr",
     "output_type": "stream",
     "text": [
      "Training: 100%|██████████| 179/179 [00:07<00:00, 24.51it/s]\n",
      "Evaluation: 100%|██████████| 8/8 [00:00<00:00, 43.56it/s]\n",
      "Training:   2%|▏         | 3/179 [00:00<00:07, 23.66it/s]"
     ]
    },
    {
     "name": "stdout",
     "output_type": "stream",
     "text": [
      "Train loss: 0.40719770952309975, Train F1: 0.8342328065222812\n",
      "Valid loss: 1.1322161927819252, Valid F1: 0.6037318030173959\n",
      "______________________________________\n",
      "\n",
      "epoch 16\n"
     ]
    },
    {
     "name": "stderr",
     "output_type": "stream",
     "text": [
      "Training: 100%|██████████| 179/179 [00:07<00:00, 24.53it/s]\n",
      "Evaluation: 100%|██████████| 8/8 [00:00<00:00, 43.40it/s]\n",
      "Training:   2%|▏         | 3/179 [00:00<00:07, 23.68it/s]"
     ]
    },
    {
     "name": "stdout",
     "output_type": "stream",
     "text": [
      "Train loss: 0.39360282690831405, Train F1: 0.8405584467617165\n",
      "Valid loss: 1.163538247346878, Valid F1: 0.6007074293656378\n",
      "______________________________________\n",
      "\n",
      "epoch 17\n"
     ]
    },
    {
     "name": "stderr",
     "output_type": "stream",
     "text": [
      "Training: 100%|██████████| 179/179 [00:07<00:00, 24.55it/s]\n",
      "Evaluation: 100%|██████████| 8/8 [00:00<00:00, 43.28it/s]\n",
      "Training:   2%|▏         | 3/179 [00:00<00:07, 23.33it/s]"
     ]
    },
    {
     "name": "stdout",
     "output_type": "stream",
     "text": [
      "Train loss: 0.38244202333455646, Train F1: 0.844621528730086\n",
      "Valid loss: 1.1853368878364563, Valid F1: 0.6032487754454263\n",
      "______________________________________\n",
      "\n",
      "epoch 18\n"
     ]
    },
    {
     "name": "stderr",
     "output_type": "stream",
     "text": [
      "Training: 100%|██████████| 179/179 [00:07<00:00, 24.52it/s]\n",
      "Evaluation: 100%|██████████| 8/8 [00:00<00:00, 42.97it/s]\n",
      "Training:   2%|▏         | 3/179 [00:00<00:07, 23.75it/s]"
     ]
    },
    {
     "name": "stdout",
     "output_type": "stream",
     "text": [
      "Train loss: 0.37149762224884675, Train F1: 0.8502599818854581\n",
      "Valid loss: 1.2362036854028702, Valid F1: 0.6025910842870641\n",
      "______________________________________\n",
      "\n",
      "epoch 19\n"
     ]
    },
    {
     "name": "stderr",
     "output_type": "stream",
     "text": [
      "Training: 100%|██████████| 179/179 [00:07<00:00, 24.68it/s]\n",
      "Evaluation: 100%|██████████| 8/8 [00:00<00:00, 41.58it/s]"
     ]
    },
    {
     "name": "stdout",
     "output_type": "stream",
     "text": [
      "Train loss: 0.3617707425988586, Train F1: 0.8541778019488051\n",
      "Valid loss: 1.2555584609508514, Valid F1: 0.6008608180099025\n",
      "______________________________________\n",
      "\n"
     ]
    },
    {
     "name": "stderr",
     "output_type": "stream",
     "text": [
      "\n"
     ]
    }
   ],
   "source": [
    "NUM_EPOCHS = 20  # Задайте количество эпох\n",
    "\n",
    "train_losses = []\n",
    "valid_losses = []\n",
    "\n",
    "train_all_f1 = []\n",
    "valid_all_f1 = []\n",
    "\n",
    "\n",
    "\n",
    "for n_epoch in range(NUM_EPOCHS):\n",
    "    print('epoch ' + str(n_epoch))\n",
    "    \n",
    "    # train\n",
    "    train_loss, train_f1 = train(model=model, iterator=train_loader, optimizer=optimizer, criterion=criterion)\n",
    "    train_losses.append(train_loss)\n",
    "    train_all_f1.append(train_f1)\n",
    "    \n",
    "    # validation\n",
    "    valid_loss, valid_f1 = evaluate(model=model, iterator=valid_loader, criterion=criterion)\n",
    "    valid_losses.append(valid_loss)\n",
    "    valid_all_f1.append(valid_f1)\n",
    "    \n",
    "    print(f'Train loss: {train_loss}, Train F1: {train_f1}\\nValid loss: {valid_loss}, Valid F1: {valid_f1}')\n",
    "    print('______________________________________\\n')"
   ]
  },
  {
   "cell_type": "code",
   "execution_count": 26,
   "id": "responsible-study",
   "metadata": {},
   "outputs": [
    {
     "data": {
      "image/png": "[encoded data removed]",
      "text/plain": [
       "<Figure size 432x288 with 1 Axes>"
      ]
     },
     "metadata": {
      "needs_background": "light"
     },
     "output_type": "display_data"
    },
    {
     "data": {
      "image/png": "[encoded data removed]",
      "text/plain": [
       "<Figure size 432x288 with 1 Axes>"
      ]
     },
     "metadata": {
      "needs_background": "light"
     },
     "output_type": "display_data"
    }
   ],
   "source": [
    "plt.plot(train_losses)\n",
    "plt.plot(valid_losses)\n",
    "plt.title('Loss')\n",
    "plt.ylabel('loss')\n",
    "plt.xlabel('epoch')\n",
    "plt.legend(['train', 'val'], loc='upper right')\n",
    "plt.show()\n",
    "\n",
    "plt.plot(train_all_f1)\n",
    "plt.plot(valid_all_f1)\n",
    "plt.title('F1')\n",
    "plt.ylabel('f1')\n",
    "plt.xlabel('epoch')\n",
    "plt.legend(['train', 'val'], loc='upper right')\n",
    "plt.show()"
   ]
  },
  {
   "cell_type": "code",
   "execution_count": 27,
   "id": "ranking-regression",
   "metadata": {},
   "outputs": [
    {
     "name": "stderr",
     "output_type": "stream",
     "text": [
      "Testing: 100%|██████████| 48/48 [00:00<00:00, 48.09it/s]\n"
     ]
    }
   ],
   "source": [
    "true, pred = test(model=model, iterator=test_loader, criterion=criterion)"
   ]
  },
  {
   "cell_type": "code",
   "execution_count": 28,
   "id": "metric-sunglasses",
   "metadata": {},
   "outputs": [
    {
     "name": "stdout",
     "output_type": "stream",
     "text": [
      "              precision    recall  f1-score   support\n",
      "\n",
      "           0       0.59      0.41      0.48      3972\n",
      "           1       0.59      0.63      0.61      5937\n",
      "           2       0.41      0.56      0.47      2375\n",
      "\n",
      "    accuracy                           0.54     12284\n",
      "   macro avg       0.53      0.53      0.52     12284\n",
      "weighted avg       0.55      0.54      0.54     12284\n",
      "\n"
     ]
    }
   ],
   "source": [
    "from sklearn.metrics import classification_report\n",
    "from sklearn.metrics import confusion_matrix\n",
    "from sklearn.metrics import ConfusionMatrixDisplay\n",
    "\n",
    "print(classification_report(true, pred))"
   ]
  },
  {
   "cell_type": "code",
   "execution_count": 29,
   "id": "severe-collectible",
   "metadata": {},
   "outputs": [
    {
     "data": {
      "text/plain": [
       "<sklearn.metrics._plot.confusion_matrix.ConfusionMatrixDisplay at 0x7f6719fb5bb0>"
      ]
     },
     "execution_count": 29,
     "metadata": {},
     "output_type": "execute_result"
    },
    {
     "data": {
      "image/png": "[encoded data removed]",
      "text/plain": [
       "<Figure size 432x288 with 2 Axes>"
      ]
     },
     "metadata": {
      "needs_background": "light"
     },
     "output_type": "display_data"
    }
   ],
   "source": [
    "confusion_matrix = confusion_matrix(true, pred)\n",
    "disp = ConfusionMatrixDisplay(confusion_matrix)\n",
    "disp.plot()"
   ]
  },
  {
   "cell_type": "markdown",
   "id": "87583e79",
   "metadata": {},
   "source": [
    "# Выводы\n",
    "Напишите небольшой отчет о проделанной работе. Что удалось, в чем не уверены, что делать дальше."
   ]
  },
  {
   "cell_type": "markdown",
   "id": "protecting-sussex",
   "metadata": {},
   "source": [
    "На обучающей выборке у нас довольно маленький лосс, однако на валидации совершенно иная картина, что говорит о переобучении нашей модели.\n",
    "Чаще всего модель путает позитивные комментарии с негативными \n",
    "Как это можно было бы исправить:\n",
    "            Взять побольше данных,\n",
    "            Попробовать улучшить предобработку данных,\n",
    "            Уменьшить количество параметров в модели,\n",
    "            Попробовать другие гиперпараметры,\n",
    "            Вообще поискать ошибки в коде (с большой вероятностью они есть)\n",
    "\n",
    "Из плюсов: с 12 попытки удалось реализовать свою первую модель, хоть и плохонькую. Это уже победа."
   ]
  }
 ],
 "metadata": {
  "kernelspec": {
   "display_name": "python3.8",
   "language": "python",
   "name": "python3.8"
  },
  "language_info": {
   "codemirror_mode": {
    "name": "ipython",
    "version": 3
   },
   "file_extension": ".py",
   "mimetype": "text/x-python",
   "name": "python",
   "nbconvert_exporter": "python",
   "pygments_lexer": "ipython3",
   "version": "3.8.8"
  }
 },
 "nbformat": 4,
 "nbformat_minor": 5
}
